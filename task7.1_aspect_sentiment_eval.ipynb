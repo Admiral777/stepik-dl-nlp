{
 "cells": [
  {
   "cell_type": "markdown",
   "metadata": {},
   "source": [
    "# Аспектный анализ тональности текстов: используем возможности fasttext"
   ]
  },
  {
   "cell_type": "code",
   "execution_count": 1,
   "metadata": {},
   "outputs": [],
   "source": [
    "# Если Вы запускаете ноутбук на colab,\n",
    "# выполните следующие строчки, чтобы подгрузить библиотеку dlnlputils:\n",
    "\n",
    "# !git clone https://github.com/Samsung-IT-Academy/stepik-dl-nlp.git\n",
    "# import sys; sys.path.append('/content/stepik-dl-nlp')"
   ]
  },
  {
   "cell_type": "code",
   "execution_count": 2,
   "metadata": {},
   "outputs": [
    {
     "data": {
      "text/plain": [
       "<torch._C.Generator at 0x7fe688f05870>"
      ]
     },
     "execution_count": 2,
     "metadata": {},
     "output_type": "execute_result"
    }
   ],
   "source": [
    "import torch\n",
    "import torch.nn as nn\n",
    "import torch.nn.functional as F\n",
    "import torch.optim as optim\n",
    "\n",
    "import random\n",
    "import numpy as np\n",
    "import matplotlib.pyplot as plt\n",
    "%matplotlib inline\n",
    "\n",
    "torch.manual_seed(1)"
   ]
  },
  {
   "cell_type": "markdown",
   "metadata": {},
   "source": [
    "## BIO-тэггинг для обучения модели"
   ]
  },
  {
   "cell_type": "code",
   "execution_count": 3,
   "metadata": {},
   "outputs": [],
   "source": [
    "from dlnlputils.sentiment_utils import parse_xml_aspect, show_markup,prepare_data, generate_markup"
   ]
  },
  {
   "cell_type": "code",
   "execution_count": 4,
   "metadata": {},
   "outputs": [],
   "source": [
    "from nltk.tokenize import RegexpTokenizer\n",
    "\n",
    "word_tokenizer = RegexpTokenizer('\\w+|\\$[\\d\\.]+|\\S+')"
   ]
  },
  {
   "cell_type": "code",
   "execution_count": 5,
   "metadata": {},
   "outputs": [],
   "source": [
    "# Если Вы запускаете ноутбук на colab, добавьте в начало пути /content/stepik-dl-nlp\n",
    "xml_train = 'datasets/sentirueval2015/SentiRuEval_car_markup_train.xml'\n",
    "xml_test  = 'datasets/sentirueval2015/SentiRuEval_car_markup_test.xml'"
   ]
  },
  {
   "cell_type": "code",
   "execution_count": 6,
   "metadata": {},
   "outputs": [],
   "source": [
    "texts_w_aspect_spans = parse_xml_aspect(xml_train)\n",
    "texts_w_aspect_spans = [(text.lower(),spans) for text, spans in texts_w_aspect_spans]\n",
    "training_data        = prepare_data(texts_w_aspect_spans, word_tokenizer.tokenize)\n",
    "\n",
    "texts_w_aspect_spans = parse_xml_aspect(xml_test)\n",
    "texts_w_aspect_spans = [(text.lower(),spans) for text, spans in texts_w_aspect_spans]\n",
    "test_data            = prepare_data(texts_w_aspect_spans, word_tokenizer.tokenize)"
   ]
  },
  {
   "cell_type": "code",
   "execution_count": 7,
   "metadata": {},
   "outputs": [
    {
     "data": {
      "text/plain": [
       "(2210, 1922)"
      ]
     },
     "execution_count": 7,
     "metadata": {},
     "output_type": "execute_result"
    }
   ],
   "source": [
    "len(training_data), len(test_data)"
   ]
  },
  {
   "cell_type": "code",
   "execution_count": 8,
   "metadata": {},
   "outputs": [
    {
     "data": {
      "text/html": [
       "<div class=\"tex2jax_ignore\" style=\"white-space: pre-wrap\"><span style=\"padding: 2px; border-radius: 4px; border: 1px solid #d7ccc8; background: #efebe9\">все так чисто ,<span style=\"vertical-align: middle; margin-left: 2px; font-size: 0.7em; color: #a1887f;\">Other</span></span> <span style=\"padding: 2px; border-radius: 4px; border: 1px solid #ffe0b2; background: #fff3e0\">опрятно<span style=\"vertical-align: middle; margin-left: 2px; font-size: 0.7em; color: #ffb74d;\">Comfort</span></span> <span style=\"padding: 2px; border-radius: 4px; border: 1px solid #d7ccc8; background: #efebe9\">, светло и тепло , что я сразу же очутился в своей тарелке .<span style=\"vertical-align: middle; margin-left: 2px; font-size: 0.7em; color: #a1887f;\">Other</span></span></div>"
      ],
      "text/plain": [
       "BoxMarkup('все так чисто , опрятно , светло и тепло , что я сразу же очутился в своей тарелке .',\n",
       "          [Span(0, 15, 'Other'),\n",
       "           Span(16, 23, 'Comfort'),\n",
       "           Span(24, 84, 'Other')])"
      ]
     },
     "metadata": {},
     "output_type": "display_data"
    }
   ],
   "source": [
    "test_recipe, test_tags = training_data[400]\n",
    "\n",
    "text, spans = generate_markup(test_recipe, test_tags) \n",
    "\n",
    "show_markup(text, spans)"
   ]
  },
  {
   "cell_type": "markdown",
   "metadata": {},
   "source": [
    "## Статистика по тэгам"
   ]
  },
  {
   "cell_type": "code",
   "execution_count": 9,
   "metadata": {},
   "outputs": [],
   "source": [
    "from collections import Counter\n",
    "from collections import defaultdict\n",
    "\n",
    "def form_vocabulary_and_tagset(words_w_tags):\n",
    "    dictionary = defaultdict(Counter)\n",
    "    for words,tags in words_w_tags: \n",
    "        for word, tag in zip(words, tags):\n",
    "            dictionary[tag].update([word])      \n",
    "    return dictionary, set(dictionary.keys()) "
   ]
  },
  {
   "cell_type": "code",
   "execution_count": 10,
   "metadata": {},
   "outputs": [],
   "source": [
    "word_counter, labels = form_vocabulary_and_tagset(training_data)"
   ]
  },
  {
   "cell_type": "code",
   "execution_count": 11,
   "metadata": {},
   "outputs": [
    {
     "name": "stdout",
     "output_type": "stream",
     "text": [
      "4933\tin Other\n",
      "236\tin B-Whole\n",
      "103\tin I-Appearance\n",
      "49\tin I-Safety\n",
      "393\tin I-Driveability\n",
      "284\tin I-Comfort\n",
      "169\tin B-Costs\n",
      "97\tin I-Costs\n",
      "200\tin I-Whole\n",
      "60\tin B-Safety\n",
      "189\tin B-Appearance\n",
      "464\tin B-Reliability\n",
      "300\tin I-Reliability\n",
      "478\tin B-Comfort\n",
      "584\tin B-Driveability\n"
     ]
    }
   ],
   "source": [
    "for label in labels:\n",
    "    num_words = len(word_counter[label])\n",
    "    print(f'{num_words}\\tin {label}')"
   ]
  },
  {
   "cell_type": "code",
   "execution_count": 13,
   "metadata": {
    "collapsed": true
   },
   "outputs": [
    {
     "data": {
      "text/plain": [
       "[('в', 29),\n",
       " ('салоне', 17),\n",
       " ('места', 15),\n",
       " ('сиденья', 14),\n",
       " ('багажник', 12),\n",
       " ('сидений', 10),\n",
       " ('салона', 9),\n",
       " ('на', 8),\n",
       " ('для', 6),\n",
       " ('сидения', 5),\n",
       " ('багажника', 5),\n",
       " ('с', 5),\n",
       " ('и', 5),\n",
       " ('комплектации', 5),\n",
       " ('не', 5),\n",
       " ('автомобиля', 4),\n",
       " ('задние', 4),\n",
       " ('управления', 4),\n",
       " ('салон', 4),\n",
       " ('автомобиле', 3),\n",
       " ('тесно', 3),\n",
       " ('отделение', 3),\n",
       " ('передач', 3),\n",
       " ('фар', 3),\n",
       " ('стекло', 3),\n",
       " ('хватает', 3),\n",
       " ('приборов', 3),\n",
       " ('ног', 3),\n",
       " ('двери', 2),\n",
       " ('пластик', 2),\n",
       " ('авто', 2),\n",
       " ('машины', 2),\n",
       " ('колонка', 2),\n",
       " ('все', 2),\n",
       " ('пассажиров', 2),\n",
       " ('панели', 2),\n",
       " ('диване', 2),\n",
       " ('обслуживании', 2),\n",
       " ('заднем', 2),\n",
       " ('водителя', 2),\n",
       " ('от', 2),\n",
       " ('панель', 2),\n",
       " ('эксплуатации', 2),\n",
       " ('универсал', 2),\n",
       " ('-контроль', 2),\n",
       " ('передних', 2),\n",
       " ('потолок', 2),\n",
       " ('достаточно', 2),\n",
       " ('магнитолу', 2),\n",
       " ('удобно', 2),\n",
       " ('системы', 2),\n",
       " ('сидениях', 2),\n",
       " ('арок', 2),\n",
       " ('chery', 2),\n",
       " ('qq6', 2),\n",
       " ('1', 2),\n",
       " ('.1', 2),\n",
       " ('стучит', 2),\n",
       " ('безопасности', 2),\n",
       " ('\"космо\"', 1),\n",
       " ('руссифицированный', 1),\n",
       " ('удобные', 1),\n",
       " ('колонке', 1),\n",
       " ('всяких', 1),\n",
       " ('опций', 1),\n",
       " ('шумы', 1),\n",
       " ('логане', 1),\n",
       " ('бояться', 1),\n",
       " ('за', 1),\n",
       " ('усталость', 1),\n",
       " ('болела', 1),\n",
       " ('focus', 1),\n",
       " ('2', 1),\n",
       " ('седан', 1),\n",
       " ('автомат', 1),\n",
       " ('уно', 1),\n",
       " ('больше', 1),\n",
       " ('руле', 1),\n",
       " ('подлокотник', 1),\n",
       " (')', 1),\n",
       " ('заднего', 1),\n",
       " ('вида', 1),\n",
       " ('спортивный', 1),\n",
       " ('болид', 1),\n",
       " ('пластика', 1),\n",
       " ('экран', 1),\n",
       " ('бизнес', 1),\n",
       " ('-класс', 1),\n",
       " ('открывать', 1),\n",
       " ('окна', 1),\n",
       " ('полка', 1),\n",
       " ('акустики', 1),\n",
       " ('двигатель', 1),\n",
       " ('зад', 1),\n",
       " ('диваном', 1),\n",
       " ('подлокотником', 1),\n",
       " ('свет', 1),\n",
       " ('топливного', 1),\n",
       " ('бака', 1),\n",
       " ('компьютере', 1),\n",
       " ('-проигрывателе', 1),\n",
       " ('кпп', 1),\n",
       " ('тесноты', 1),\n",
       " ('мультимедийный', 1),\n",
       " ('плеер', 1),\n",
       " ('тихо', 1),\n",
       " ('диванчик', 1),\n",
       " ('только', 1),\n",
       " ('задний', 1),\n",
       " ('дива', 1),\n",
       " ('пакетам', 1),\n",
       " ('поясница', 1),\n",
       " ('-ноги', 1),\n",
       " ('зеркал', 1),\n",
       " ('запаска', 1),\n",
       " ('кнопок', 1),\n",
       " ('легкостью', 1),\n",
       " ('поместиться', 1),\n",
       " ('переднего', 1),\n",
       " ('пассажира', 1),\n",
       " ('положение', 1),\n",
       " ('прогревается', 1),\n",
       " ('температуры', 1),\n",
       " ('нагрева', 1),\n",
       " ('салазках', 1),\n",
       " ('ужасно', 1),\n",
       " ('части', 1),\n",
       " ('хайса', 1),\n",
       " ('люк', 1),\n",
       " ('кондиционера', 1),\n",
       " ('нам', 1),\n",
       " ('мест', 1),\n",
       " ('субары', 1),\n",
       " ('огромной', 1),\n",
       " ('баранкой', 1),\n",
       " ('своих', 1),\n",
       " ('местах', 1),\n",
       " ('неудобств', 1),\n",
       " ('появлялись', 1),\n",
       " ('скрипы', 1),\n",
       " ('часть', 1),\n",
       " ('пространства', 1),\n",
       " ('подогревает', 1),\n",
       " ('зонный', 1),\n",
       " ('климат', 1),\n",
       " ('расположены', 1),\n",
       " ('бардачке', 1),\n",
       " ('оркестр', 1),\n",
       " ('правой', 1),\n",
       " ('панеле', 1),\n",
       " ('подсветкой', 1),\n",
       " ('приносит', 1),\n",
       " ('дискомфорта', 1),\n",
       " ('что', 1),\n",
       " ('вмещается', 1),\n",
       " ('долго', 1),\n",
       " ('отличается', 1),\n",
       " ('просторностью', 1),\n",
       " ('коленки', 1),\n",
       " ('спина', 1),\n",
       " ('лихвой', 1),\n",
       " ('хватит', 1),\n",
       " ('совсем', 1),\n",
       " ('комфортно', 1),\n",
       " ('багаж', 1),\n",
       " ('создает', 1),\n",
       " ('раздражающих', 1),\n",
       " ('звуков', 1),\n",
       " ('бензином', 1),\n",
       " ('включить', 1),\n",
       " ('печку', 1),\n",
       " ('машина', 1),\n",
       " ('дверки', 1),\n",
       " ('кнопки', 1),\n",
       " ('переключения', 1),\n",
       " ('система', 1),\n",
       " ('гарнитурой', 1),\n",
       " ('планка', 1),\n",
       " ('под', 1),\n",
       " ('рукой', 1),\n",
       " ('навязчиво', 1),\n",
       " ('опель', 1),\n",
       " ('автомагнитола', 1),\n",
       " ('водить', 1),\n",
       " ('регулируются', 1),\n",
       " ('комплектацию', 1),\n",
       " ('фары', 1),\n",
       " ('кожа', 1),\n",
       " ('внутри', 1),\n",
       " ('холодно', 1),\n",
       " ('ноги', 1),\n",
       " ('s', 1),\n",
       " ('магнитола', 1),\n",
       " ('сd', 1),\n",
       " ('диски', 1),\n",
       " ('стекла', 1),\n",
       " ('компьютер', 1),\n",
       " ('сидеть', 1),\n",
       " ('греет', 1),\n",
       " ('орет', 1),\n",
       " ('ремонте', 1),\n",
       " ('дверь', 1),\n",
       " ('руля', 1),\n",
       " ('управляется', 1),\n",
       " ('тормоза', 1),\n",
       " ('-подъёмники', 1),\n",
       " ('свободно', 1),\n",
       " ('мягко', 1),\n",
       " ('сиденье', 1),\n",
       " ('магнитолой', 1),\n",
       " ('зеркала', 1),\n",
       " ('маленький', 1),\n",
       " ('контроль', 1),\n",
       " ('жарко', 1),\n",
       " ('холодный', 1),\n",
       " ('воздух', 1),\n",
       " ('замерзают', 1),\n",
       " ('тепловой', 1),\n",
       " ('удар', 1),\n",
       " ('арки', 1),\n",
       " ('pioneer', 1),\n",
       " ('аудио', 1),\n",
       " ('припарковаться', 1),\n",
       " ('кресло', 1),\n",
       " ('управлять', 1),\n",
       " ('шумов', 1),\n",
       " ('сидении', 1),\n",
       " ('кресел', 1),\n",
       " ('задних', 1),\n",
       " ('мало', 1),\n",
       " ('довольно', 1),\n",
       " ('мал', 1),\n",
       " ('как', 1),\n",
       " ('болтается', 1),\n",
       " ('бензин', 1),\n",
       " ('баке', 1),\n",
       " ('колесных', 1),\n",
       " ('отсеке', 1),\n",
       " ('тахометра', 1),\n",
       " ('упираюсь', 1),\n",
       " ('так', 1),\n",
       " ('много', 1),\n",
       " ('мульимедиа', 1),\n",
       " ('климатом', 1),\n",
       " ('мелочей', 1),\n",
       " ('плпстиком', 1),\n",
       " ('поддержка', 1),\n",
       " ('со', 1),\n",
       " ('двора', 1),\n",
       " ('шума', 1),\n",
       " ('вибраций', 1),\n",
       " ('ваши', 1),\n",
       " ('позвоночники', 1),\n",
       " ('размер', 1),\n",
       " ('дисплей', 1),\n",
       " ('обогревом', 1),\n",
       " ('\"калины\"', 1),\n",
       " ('при', 1),\n",
       " ('вождении', 1),\n",
       " ('чистится', 1),\n",
       " ('всех', 1),\n",
       " ('вещей', 1),\n",
       " ('есть', 1),\n",
       " ('место', 1),\n",
       " ('автомагнитолы', 1),\n",
       " ('небольшой', 1),\n",
       " ('-контроля', 1),\n",
       " ('гремит', 1),\n",
       " ('корпуса', 1),\n",
       " ('автомобилю', 1),\n",
       " ('дверей', 1),\n",
       " ('полная', 1),\n",
       " ('тишина', 1),\n",
       " ('kangoo', 1),\n",
       " ('удобны', 1),\n",
       " ('ремни', 1),\n",
       " ('присутствует', 1),\n",
       " ('помещается', 1),\n",
       " ('поддержки', 1),\n",
       " ('спины', 1),\n",
       " ('круиз', 1),\n",
       " ('контороли', 1),\n",
       " ('багажного', 1),\n",
       " ('отдела', 1)]"
      ]
     },
     "execution_count": 13,
     "metadata": {},
     "output_type": "execute_result"
    }
   ],
   "source": [
    "word_counter['I-Comfort'].most_common()#[-1]"
   ]
  },
  {
   "cell_type": "code",
   "execution_count": 14,
   "metadata": {},
   "outputs": [],
   "source": [
    "ordered_tags = [\n",
    " 'Other',\n",
    " 'B-Whole',\n",
    " 'I-Whole',\n",
    " 'B-Driveability',\n",
    " 'I-Driveability',\n",
    " 'B-Appearance',\n",
    " 'I-Appearance',\n",
    " 'B-Reliability',\n",
    " 'I-Reliability',\n",
    " 'B-Comfort',\n",
    " 'I-Comfort',\n",
    " 'B-Costs',\n",
    " 'I-Costs',\n",
    " 'B-Safety',\n",
    " 'I-Safety']"
   ]
  },
  {
   "cell_type": "code",
   "execution_count": 15,
   "metadata": {},
   "outputs": [],
   "source": [
    "class TagConverter():\n",
    "    def __init__(self, tags):\n",
    "        self.idx_to_tag  = sorted(tags)\n",
    "        self.tag_to_idx  = {tag:idx for idx,tag in enumerate(self.idx_to_tag)}\n",
    "        \n",
    "    def tags_to_index(self, words):\n",
    "        return torch.tensor([self.tag_to_idx[w] for w in words], dtype=torch.long)\n",
    "    \n",
    "    def indices_to_tags(self, indices):\n",
    "        return [self.idx_to_tag[i] for i in indices]"
   ]
  },
  {
   "cell_type": "code",
   "execution_count": 16,
   "metadata": {},
   "outputs": [],
   "source": [
    "tag_converter = TagConverter(ordered_tags)"
   ]
  },
  {
   "cell_type": "code",
   "execution_count": 23,
   "metadata": {},
   "outputs": [
    {
     "data": {
      "text/html": [
       "<div class=\"tex2jax_ignore\" style=\"white-space: pre-wrap\"><span style=\"padding: 2px; border-radius: 4px; border: 1px solid #ffcdd2; background: #ffebee\">автомобиль<span style=\"vertical-align: middle; margin-left: 2px; font-size: 0.7em; color: #e57373;\">Whole</span></span> <span style=\"padding: 2px; border-radius: 4px; border: 1px solid #d7ccc8; background: #efebe9\">принадлежит дяде .<span style=\"vertical-align: middle; margin-left: 2px; font-size: 0.7em; color: #a1887f;\">Other</span></span></div>"
      ],
      "text/plain": [
       "BoxMarkup('автомобиль принадлежит дяде .',\n",
       "          [Span(0, 10, 'Whole'), Span(11, 29, 'Other')])"
      ]
     },
     "metadata": {},
     "output_type": "display_data"
    },
    {
     "name": "stdout",
     "output_type": "stream",
     "text": [
      "tensor([ 6, 14, 14, 14])\n",
      "\n"
     ]
    },
    {
     "data": {
      "text/html": [
       "<div class=\"tex2jax_ignore\" style=\"white-space: pre-wrap\"><span style=\"padding: 2px; border-radius: 4px; border: 1px solid #ffcdd2; background: #ffebee\">автомобиль<span style=\"vertical-align: middle; margin-left: 2px; font-size: 0.7em; color: #e57373;\">Whole</span></span> <span style=\"padding: 2px; border-radius: 4px; border: 1px solid #d7ccc8; background: #efebe9\">принадлежит дяде .<span style=\"vertical-align: middle; margin-left: 2px; font-size: 0.7em; color: #a1887f;\">Other</span></span></div>"
      ],
      "text/plain": [
       "BoxMarkup('автомобиль принадлежит дяде .',\n",
       "          [Span(0, 10, 'Whole'), Span(11, 29, 'Other')])"
      ]
     },
     "metadata": {},
     "output_type": "display_data"
    }
   ],
   "source": [
    "test_recipe, test_tags = training_data[321]\n",
    "\n",
    "# оригинал\n",
    "text, spans = generate_markup(test_recipe, test_tags) \n",
    "show_markup(text, spans)\n",
    "\n",
    "# кодируем только тэги:\n",
    "encoded_tags = tag_converter.tags_to_index(test_tags)\n",
    "print(encoded_tags)\n",
    "print()\n",
    "\n",
    "# декодируем тэги:\n",
    "decoded_tags = tag_converter.indices_to_tags(encoded_tags)\n",
    "\n",
    "text, spans = generate_markup(test_recipe, decoded_tags) \n",
    "show_markup(text, spans)"
   ]
  },
  {
   "cell_type": "markdown",
   "metadata": {},
   "source": [
    "# LSTM & fasttext "
   ]
  },
  {
   "cell_type": "code",
   "execution_count": 26,
   "metadata": {},
   "outputs": [],
   "source": [
    "import zipfile\n",
    "import gensim\n",
    "#import wget\n",
    "\n",
    "model_url = 'http://vectors.nlpl.eu/repository/11/187.zip'\n",
    "#wget.download(model_url)\n",
    "model_file = 'datasets/' + model_url.split('/')[-1]"
   ]
  },
  {
   "cell_type": "markdown",
   "metadata": {},
   "source": [
    "#### модель fasttext: редкие и  выдуманные слова"
   ]
  },
  {
   "cell_type": "code",
   "execution_count": 27,
   "metadata": {},
   "outputs": [],
   "source": [
    "w2v_model = gensim.models.KeyedVectors.load('datasets/187/model.model')"
   ]
  },
  {
   "cell_type": "code",
   "execution_count": 28,
   "metadata": {
    "collapsed": true
   },
   "outputs": [
    {
     "name": "stdout",
     "output_type": "stream",
     "text": [
      "тачаночка\n",
      "тачанка 0.7318679094314575\n",
      "тачанк 0.6545170545578003\n",
      "бричка 0.627240777015686\n",
      "двуколка 0.610139012336731\n",
      "тачка 0.5886926054954529\n",
      "бараночка 0.5879709720611572\n",
      "паночка 0.573016881942749\n",
      "эмка 0.5701597929000854\n",
      "саничка 0.565357506275177\n",
      "каретка 0.5643386244773865\n",
      "\n",
      "\n",
      "двиганчик\n",
      "движка 0.4994381070137024\n",
      "танчик 0.4963422417640686\n",
      "двигай 0.4941864609718323\n",
      "двигатели 0.48835229873657227\n",
      "движа 0.4803929924964905\n",
      "двигун 0.46693849563598633\n",
      "движок 0.4630592465400696\n",
      "моторчик 0.45433372259140015\n",
      "шарк 0.4522787034511566\n",
      "движ 0.452262818813324\n",
      "\n",
      "\n",
      "ковервертолет\n",
      "вертолет 0.743363618850708\n",
      "ковер-самолет 0.6644095778465271\n",
      "вертолетная 0.6616967916488647\n",
      "вертолетчика 0.6364192962646484\n",
      "вертолёт 0.6328296065330505\n",
      "самолет 0.6245843768119812\n",
      "ковре-самолет 0.6201825141906738\n",
      "вертолетчик 0.6189783811569214\n",
      "гидросамолет 0.6109312176704407\n",
      "вертолетный 0.6071040630340576\n",
      "\n",
      "\n"
     ]
    }
   ],
   "source": [
    "words = ['тачаночка', 'двиганчик', 'ковервертолет']\n",
    "\n",
    "for word in words:\n",
    "    if word in w2v_model:\n",
    "        print(word)\n",
    "        \n",
    "        for i in w2v_model.most_similar(positive=[word], topn=10):\n",
    "            nearest_word      = i[0]\n",
    "            cosine_similarity = i[1]\n",
    "            print(nearest_word, cosine_similarity)\n",
    "        print('\\n')\n",
    "    else:\n",
    "        print(word + ' is not present in the model')"
   ]
  },
  {
   "cell_type": "markdown",
   "metadata": {},
   "source": [
    "Создадим конвертер слов в векторы fasttext:"
   ]
  },
  {
   "cell_type": "code",
   "execution_count": 35,
   "metadata": {},
   "outputs": [],
   "source": [
    "class WordConverter:\n",
    "        def __init__(self, w2v_model):\n",
    "            self.w2v_model = w2v_model\n",
    "            \n",
    "        def convert(self, words):           \n",
    "            return torch.FloatTensor([self.w2v_model.get_vector(word) for word in words])"
   ]
  },
  {
   "cell_type": "code",
   "execution_count": 36,
   "metadata": {},
   "outputs": [
    {
     "data": {
      "text/plain": [
       "torch.Size([27, 300])"
      ]
     },
     "execution_count": 36,
     "metadata": {},
     "output_type": "execute_result"
    }
   ],
   "source": [
    "word_converter = WordConverter(w2v_model)\n",
    "\n",
    "words,_ = training_data[333]\n",
    "vectors = word_converter.convert(words)\n",
    "\n",
    "vectors.shape"
   ]
  },
  {
   "cell_type": "markdown",
   "metadata": {},
   "source": [
    "##  LSTM: теперь без embedding слоя"
   ]
  },
  {
   "cell_type": "code",
   "execution_count": 25,
   "metadata": {},
   "outputs": [],
   "source": [
    "EMBEDDING_DIM = 300\n",
    "HIDDEN_DIM    = 32\n",
    "TAGSET_SIZE   = len(tag_converter.tag_to_idx)"
   ]
  },
  {
   "cell_type": "code",
   "execution_count": 45,
   "metadata": {},
   "outputs": [],
   "source": [
    "class LSTMTagger(nn.Module):\n",
    "    def __init__(self, embedding_dim, hidden_dim, output_dim, word_converter):\n",
    "        super(LSTMTagger, self).__init__()\n",
    "        tagset_size = len(tag_converter.tag_to_idx)\n",
    "        \n",
    "        self.word_converter = word_converter\n",
    "        self.lstm           = nn.LSTM(embedding_dim, hidden_dim, bidirectional=True)\n",
    "        self.hidden2tag     = nn.Linear(2*hidden_dim, output_dim)\n",
    "\n",
    "    def forward(self, words):\n",
    "        embeds      = self.word_converter.convert(words)\n",
    "        lstm_out, _ = self.lstm(embeds.view(len(words), 1, -1))\n",
    "        tag_space   = self.hidden2tag(lstm_out.view(len(words), -1))\n",
    "        tag_scores  = F.log_softmax(tag_space, dim=1)\n",
    "        return tag_scores\n",
    "    \n",
    "    def predict_tags(self, words):\n",
    "        with torch.no_grad():\n",
    "            tags_pred = model(words).numpy()\n",
    "            tags_pred = np.argmax(tags_pred, axis=1)  \n",
    "        return tags_pred"
   ]
  },
  {
   "cell_type": "code",
   "execution_count": 46,
   "metadata": {
    "collapsed": true
   },
   "outputs": [
    {
     "name": "stdout",
     "output_type": "stream",
     "text": [
      "[('Other', 23529),\n",
      " ('B-Driveability', 1188),\n",
      " ('B-Comfort', 1092),\n",
      " ('I-Driveability', 773),\n",
      " ('B-Reliability', 769),\n",
      " ('B-Whole', 768),\n",
      " ('I-Comfort', 480),\n",
      " ('I-Reliability', 457),\n",
      " ('B-Costs', 392),\n",
      " ('B-Appearance', 354),\n",
      " ('I-Whole', 310),\n",
      " ('I-Costs', 177),\n",
      " ('I-Appearance', 146),\n",
      " ('B-Safety', 87),\n",
      " ('I-Safety', 63)]\n",
      "tensor([ 66.7812,  21.6488,  60.3075,  19.8994,  30.7419, 271.7303,  30.7819,\n",
      "        161.9215,  49.2511, 133.5623,  30.5828,  51.7298, 375.2466,  76.2598,\n",
      "          1.0047])\n"
     ]
    }
   ],
   "source": [
    "from collections import Counter\n",
    "from pprint import pprint\n",
    "\n",
    "tag_counter = Counter()\n",
    "for _,tokens in training_data:\n",
    "    for token in tokens:\n",
    "        tag_counter[token]+=1\n",
    "        \n",
    "pprint(tag_counter.most_common())\n",
    "\n",
    "\n",
    "class_weights = torch.ones(15)\n",
    "class_divs    = torch.ones(15)\n",
    "\n",
    "for tag, inv_weight in tag_counter.most_common():\n",
    "    tag_idx             = tag_converter.tags_to_index([tag])\n",
    "    class_divs[tag_idx] = inv_weight\n",
    "    \n",
    "norm       = torch.norm(class_divs, p=2, dim=0).detach()\n",
    "class_divs = class_divs.div(norm.expand_as(class_divs))\n",
    "\n",
    "class_weights /= class_divs\n",
    "\n",
    "print(class_weights.detach())"
   ]
  },
  {
   "cell_type": "code",
   "execution_count": 47,
   "metadata": {},
   "outputs": [],
   "source": [
    "model         = LSTMTagger(EMBEDDING_DIM, HIDDEN_DIM, TAGSET_SIZE, word_converter)\n",
    "loss_function = nn.NLLLoss(class_weights) \n",
    "optimizer     = optim.SGD(model.parameters(), lr=0.1)"
   ]
  },
  {
   "cell_type": "code",
   "execution_count": 48,
   "metadata": {
    "collapsed": true
   },
   "outputs": [
    {
     "data": {
      "image/png": "[encoded data removed]",
      "text/plain": [
       "<Figure size 864x576 with 1 Axes>"
      ]
     },
     "metadata": {
      "needs_background": "light"
     },
     "output_type": "display_data"
    },
    {
     "name": "stdout",
     "output_type": "stream",
     "text": [
      "negative log likelihood loss:\n",
      "training   (min:    0.001, max:    3.307, cur:    0.064)\n"
     ]
    }
   ],
   "source": [
    "from livelossplot import PlotLosses\n",
    "\n",
    "liveplot = PlotLosses()\n",
    "\n",
    "for epoch in range(10): \n",
    "    for i, (recipe, tags) in enumerate(training_data):\n",
    "        \n",
    "        model.zero_grad()\n",
    "        \n",
    "        tag_predicted = model(recipe) # <- теперь передаем предложение, а не список индексов слов\n",
    "        tag_ground    = tag_converter.tags_to_index(tags) \n",
    "        \n",
    "        \n",
    "        loss = loss_function(tag_predicted, tag_ground)\n",
    "        loss.backward()\n",
    "        optimizer.step()\n",
    "        \n",
    "        if i % 100 == 0:\n",
    "            liveplot.update({'negative log likelihood loss': loss})\n",
    "            liveplot.draw()   "
   ]
  },
  {
   "cell_type": "code",
   "execution_count": 50,
   "metadata": {},
   "outputs": [],
   "source": [
    "def predict_tags(model, recipe):\n",
    "    encoded_tags   = model.predict_tags(recipe)      # предсказанные тэги (номера)\n",
    "    decoded_tags   = tag_converter.indices_to_tags(encoded_tags) # номер тэга -> тэг\n",
    "    return decoded_tags"
   ]
  },
  {
   "cell_type": "code",
   "execution_count": 51,
   "metadata": {},
   "outputs": [
    {
     "name": "stdout",
     "output_type": "stream",
     "text": [
      "истинные тэги:\n"
     ]
    },
    {
     "data": {
      "text/html": [
       "<div class=\"tex2jax_ignore\" style=\"white-space: pre-wrap\"><span style=\"padding: 2px; border-radius: 4px; border: 1px solid #d7ccc8; background: #efebe9\">белая на удивление , раньше я была против такого<span style=\"vertical-align: middle; margin-left: 2px; font-size: 0.7em; color: #a1887f;\">Other</span></span> <span style=\"padding: 2px; border-radius: 4px; border: 1px solid #bbdefb; background: #e3f2fd\">цвета<span style=\"vertical-align: middle; margin-left: 2px; font-size: 0.7em; color: #64b5f6;\">Appearance</span></span> <span style=\"padding: 2px; border-radius: 4px; border: 1px solid #d7ccc8; background: #efebe9\">, меня удивила .<span style=\"vertical-align: middle; margin-left: 2px; font-size: 0.7em; color: #a1887f;\">Other</span></span></div>"
      ],
      "text/plain": [
       "BoxMarkup('белая на удивление , раньше я была против такого цвета , меня удивила .',\n",
       "          [Span(0, 48, 'Other'),\n",
       "           Span(49, 54, 'Appearance'),\n",
       "           Span(55, 71, 'Other')])"
      ]
     },
     "metadata": {},
     "output_type": "display_data"
    },
    {
     "name": "stdout",
     "output_type": "stream",
     "text": [
      "предсказанные тэги:\n"
     ]
    },
    {
     "data": {
      "text/html": [
       "<div class=\"tex2jax_ignore\" style=\"white-space: pre-wrap\"><span style=\"padding: 2px; border-radius: 4px; border: 1px solid #bbdefb; background: #e3f2fd\">белая<span style=\"vertical-align: middle; margin-left: 2px; font-size: 0.7em; color: #64b5f6;\">Driveability</span></span> <span style=\"padding: 2px; border-radius: 4px; border: 1px solid #d7ccc8; background: #efebe9\">на удивление , раньше я была против такого<span style=\"vertical-align: middle; margin-left: 2px; font-size: 0.7em; color: #a1887f;\">Other</span></span> <span style=\"padding: 2px; border-radius: 4px; border: 1px solid #bbdefb; background: #e3f2fd\">цвета<span style=\"vertical-align: middle; margin-left: 2px; font-size: 0.7em; color: #64b5f6;\">Appearance</span></span> <span style=\"padding: 2px; border-radius: 4px; border: 1px solid #d7ccc8; background: #efebe9\">, меня удивила .<span style=\"vertical-align: middle; margin-left: 2px; font-size: 0.7em; color: #a1887f;\">Other</span></span></div>"
      ],
      "text/plain": [
       "BoxMarkup('белая на удивление , раньше я была против такого цвета , меня удивила .',\n",
       "          [Span(0, 5, 'Driveability'),\n",
       "           Span(6, 48, 'Other'),\n",
       "           Span(49, 54, 'Appearance'),\n",
       "           Span(55, 71, 'Other')])"
      ]
     },
     "metadata": {},
     "output_type": "display_data"
    },
    {
     "name": "stdout",
     "output_type": "stream",
     "text": [
      "\n",
      "истинные тэги:\n"
     ]
    },
    {
     "data": {
      "text/html": [
       "<div class=\"tex2jax_ignore\" style=\"white-space: pre-wrap\"><span style=\"padding: 2px; border-radius: 4px; border: 1px solid #d7ccc8; background: #efebe9\">сзади<span style=\"vertical-align: middle; margin-left: 2px; font-size: 0.7em; color: #a1887f;\">Other</span></span> <span style=\"padding: 2px; border-radius: 4px; border: 1px solid #ffe0b2; background: #fff3e0\">достаточно места<span style=\"vertical-align: middle; margin-left: 2px; font-size: 0.7em; color: #ffb74d;\">Comfort</span></span></div>"
      ],
      "text/plain": [
       "BoxMarkup('сзади достаточно места',\n",
       "          [Span(0, 5, 'Other'), Span(6, 22, 'Comfort')])"
      ]
     },
     "metadata": {},
     "output_type": "display_data"
    },
    {
     "name": "stdout",
     "output_type": "stream",
     "text": [
      "предсказанные тэги:\n"
     ]
    },
    {
     "data": {
      "text/html": [
       "<div class=\"tex2jax_ignore\" style=\"white-space: pre-wrap\"><span style=\"padding: 2px; border-radius: 4px; border: 1px solid #d7ccc8; background: #efebe9\">сзади достаточно<span style=\"vertical-align: middle; margin-left: 2px; font-size: 0.7em; color: #a1887f;\">Other</span></span> <span style=\"padding: 2px; border-radius: 4px; border: 1px solid #ffe0b2; background: #fff3e0\">места<span style=\"vertical-align: middle; margin-left: 2px; font-size: 0.7em; color: #ffb74d;\">Comfort</span></span></div>"
      ],
      "text/plain": [
       "BoxMarkup('сзади достаточно места',\n",
       "          [Span(0, 16, 'Other'), Span(17, 22, 'Comfort')])"
      ]
     },
     "metadata": {},
     "output_type": "display_data"
    },
    {
     "name": "stdout",
     "output_type": "stream",
     "text": [
      "\n",
      "истинные тэги:\n"
     ]
    },
    {
     "data": {
      "text/html": [
       "<div class=\"tex2jax_ignore\" style=\"white-space: pre-wrap\"><span style=\"padding: 2px; border-radius: 4px; border: 1px solid #d7ccc8; background: #efebe9\">покупал<span style=\"vertical-align: middle; margin-left: 2px; font-size: 0.7em; color: #a1887f;\">Other</span></span> <span style=\"padding: 2px; border-radius: 4px; border: 1px solid #ffcdd2; background: #ffebee\">соболя<span style=\"vertical-align: middle; margin-left: 2px; font-size: 0.7em; color: #e57373;\">Whole</span></span> <span style=\"padding: 2px; border-radius: 4px; border: 1px solid #d7ccc8; background: #efebe9\">в июне месяце .<span style=\"vertical-align: middle; margin-left: 2px; font-size: 0.7em; color: #a1887f;\">Other</span></span></div>"
      ],
      "text/plain": [
       "BoxMarkup('покупал соболя в июне месяце .',\n",
       "          [Span(0, 7, 'Other'), Span(8, 14, 'Whole'), Span(15, 30, 'Other')])"
      ]
     },
     "metadata": {},
     "output_type": "display_data"
    },
    {
     "name": "stdout",
     "output_type": "stream",
     "text": [
      "предсказанные тэги:\n"
     ]
    },
    {
     "data": {
      "text/html": [
       "<div class=\"tex2jax_ignore\" style=\"white-space: pre-wrap\"><span style=\"padding: 2px; border-radius: 4px; border: 1px solid #d7ccc8; background: #efebe9\">покупал соболя в июне месяце .<span style=\"vertical-align: middle; margin-left: 2px; font-size: 0.7em; color: #a1887f;\">Other</span></span></div>"
      ],
      "text/plain": [
       "BoxMarkup('покупал соболя в июне месяце .', [Span(0, 30, 'Other')])"
      ]
     },
     "metadata": {},
     "output_type": "display_data"
    },
    {
     "name": "stdout",
     "output_type": "stream",
     "text": [
      "\n",
      "истинные тэги:\n"
     ]
    },
    {
     "data": {
      "text/html": [
       "<div class=\"tex2jax_ignore\" style=\"white-space: pre-wrap\"><span style=\"padding: 2px; border-radius: 4px; border: 1px solid #d7ccc8; background: #efebe9\">этот<span style=\"vertical-align: middle; margin-left: 2px; font-size: 0.7em; color: #a1887f;\">Other</span></span> <span style=\"padding: 2px; border-radius: 4px; border: 1px solid #bbdefb; background: #e3f2fd\">автомобиль переднеприводный<span style=\"vertical-align: middle; margin-left: 2px; font-size: 0.7em; color: #64b5f6;\">Driveability</span></span> <span style=\"padding: 2px; border-radius: 4px; border: 1px solid #d7ccc8; background: #efebe9\">, поэтому уже уменьшается<span style=\"vertical-align: middle; margin-left: 2px; font-size: 0.7em; color: #a1887f;\">Other</span></span> <span style=\"padding: 2px; border-radius: 4px; border: 1px solid #bbdefb; background: #e3f2fd\">риск застрять<span style=\"vertical-align: middle; margin-left: 2px; font-size: 0.7em; color: #64b5f6;\">Driveability</span></span> <span style=\"padding: 2px; border-radius: 4px; border: 1px solid #d7ccc8; background: #efebe9\">в какой -нибудь луже .<span style=\"vertical-align: middle; margin-left: 2px; font-size: 0.7em; color: #a1887f;\">Other</span></span></div>"
      ],
      "text/plain": [
       "BoxMarkup('этот автомобиль переднеприводный , поэтому уже уменьшается риск застрять в какой -нибудь луже .',\n",
       "          [Span(0, 4, 'Other'),\n",
       "           Span(5, 32, 'Driveability'),\n",
       "           Span(33, 58, 'Other'),\n",
       "           Span(59, 72, 'Driveability'),\n",
       "           Span(73, 95, 'Other')])"
      ]
     },
     "metadata": {},
     "output_type": "display_data"
    },
    {
     "name": "stdout",
     "output_type": "stream",
     "text": [
      "предсказанные тэги:\n"
     ]
    },
    {
     "data": {
      "text/html": [
       "<div class=\"tex2jax_ignore\" style=\"white-space: pre-wrap\"><span style=\"padding: 2px; border-radius: 4px; border: 1px solid #d7ccc8; background: #efebe9\">этот<span style=\"vertical-align: middle; margin-left: 2px; font-size: 0.7em; color: #a1887f;\">Other</span></span> <span style=\"padding: 2px; border-radius: 4px; border: 1px solid #ffcdd2; background: #ffebee\">автомобиль<span style=\"vertical-align: middle; margin-left: 2px; font-size: 0.7em; color: #e57373;\">Whole</span></span> <span style=\"padding: 2px; border-radius: 4px; border: 1px solid #bbdefb; background: #e3f2fd\">переднеприводный<span style=\"vertical-align: middle; margin-left: 2px; font-size: 0.7em; color: #64b5f6;\">Driveability</span></span> <span style=\"padding: 2px; border-radius: 4px; border: 1px solid #d7ccc8; background: #efebe9\">, поэтому уже уменьшается риск<span style=\"vertical-align: middle; margin-left: 2px; font-size: 0.7em; color: #a1887f;\">Other</span></span> <span style=\"padding: 2px; border-radius: 4px; border: 1px solid #bbdefb; background: #e3f2fd\">застрять<span style=\"vertical-align: middle; margin-left: 2px; font-size: 0.7em; color: #64b5f6;\">Driveability</span></span> <span style=\"padding: 2px; border-radius: 4px; border: 1px solid #d7ccc8; background: #efebe9\">в какой -нибудь луже .<span style=\"vertical-align: middle; margin-left: 2px; font-size: 0.7em; color: #a1887f;\">Other</span></span></div>"
      ],
      "text/plain": [
       "BoxMarkup('этот автомобиль переднеприводный , поэтому уже уменьшается риск застрять в какой -нибудь луже .',\n",
       "          [Span(0, 4, 'Other'),\n",
       "           Span(5, 15, 'Whole'),\n",
       "           Span(16, 32, 'Driveability'),\n",
       "           Span(33, 63, 'Other'),\n",
       "           Span(64, 72, 'Driveability'),\n",
       "           Span(73, 95, 'Other')])"
      ]
     },
     "metadata": {},
     "output_type": "display_data"
    },
    {
     "name": "stdout",
     "output_type": "stream",
     "text": [
      "\n",
      "истинные тэги:\n"
     ]
    },
    {
     "data": {
      "text/html": [
       "<div class=\"tex2jax_ignore\" style=\"white-space: pre-wrap\"><span style=\"padding: 2px; border-radius: 4px; border: 1px solid #ffcdd2; background: #ffebee\">автомобиль<span style=\"vertical-align: middle; margin-left: 2px; font-size: 0.7em; color: #e57373;\">Whole</span></span> <span style=\"padding: 2px; border-radius: 4px; border: 1px solid #d7ccc8; background: #efebe9\">брал в<span style=\"vertical-align: middle; margin-left: 2px; font-size: 0.7em; color: #a1887f;\">Other</span></span> <span style=\"padding: 2px; border-radius: 4px; border: 1px solid #ffe0b2; background: #fff3e0\">комплектации highline<span style=\"vertical-align: middle; margin-left: 2px; font-size: 0.7em; color: #ffb74d;\">Comfort</span></span> <span style=\"padding: 2px; border-radius: 4px; border: 1px solid #d7ccc8; background: #efebe9\">, с<span style=\"vertical-align: middle; margin-left: 2px; font-size: 0.7em; color: #a1887f;\">Other</span></span> <span style=\"padding: 2px; border-radius: 4px; border: 1px solid #bbdefb; background: #e3f2fd\">акпп<span style=\"vertical-align: middle; margin-left: 2px; font-size: 0.7em; color: #64b5f6;\">Driveability</span></span></div>"
      ],
      "text/plain": [
       "BoxMarkup('автомобиль брал в комплектации highline , с акпп',\n",
       "          [Span(0, 10, 'Whole'),\n",
       "           Span(11, 17, 'Other'),\n",
       "           Span(18, 39, 'Comfort'),\n",
       "           Span(40, 43, 'Other'),\n",
       "           Span(44, 48, 'Driveability')])"
      ]
     },
     "metadata": {},
     "output_type": "display_data"
    },
    {
     "name": "stdout",
     "output_type": "stream",
     "text": [
      "предсказанные тэги:\n"
     ]
    },
    {
     "data": {
      "text/html": [
       "<div class=\"tex2jax_ignore\" style=\"white-space: pre-wrap\"><span style=\"padding: 2px; border-radius: 4px; border: 1px solid #ffcdd2; background: #ffebee\">автомобиль<span style=\"vertical-align: middle; margin-left: 2px; font-size: 0.7em; color: #e57373;\">Whole</span></span> <span style=\"padding: 2px; border-radius: 4px; border: 1px solid #d7ccc8; background: #efebe9\">брал в<span style=\"vertical-align: middle; margin-left: 2px; font-size: 0.7em; color: #a1887f;\">Other</span></span> <span style=\"padding: 2px; border-radius: 4px; border: 1px solid #ffe0b2; background: #fff3e0\">комплектации<span style=\"vertical-align: middle; margin-left: 2px; font-size: 0.7em; color: #ffb74d;\">Comfort</span></span> <span style=\"padding: 2px; border-radius: 4px; border: 1px solid #bbdefb; background: #e3f2fd\">highline<span style=\"vertical-align: middle; margin-left: 2px; font-size: 0.7em; color: #64b5f6;\">Driveability</span></span> <span style=\"padding: 2px; border-radius: 4px; border: 1px solid #d7ccc8; background: #efebe9\">, с<span style=\"vertical-align: middle; margin-left: 2px; font-size: 0.7em; color: #a1887f;\">Other</span></span> <span style=\"padding: 2px; border-radius: 4px; border: 1px solid #bbdefb; background: #e3f2fd\">акпп<span style=\"vertical-align: middle; margin-left: 2px; font-size: 0.7em; color: #64b5f6;\">Driveability</span></span></div>"
      ],
      "text/plain": [
       "BoxMarkup('автомобиль брал в комплектации highline , с акпп',\n",
       "          [Span(0, 10, 'Whole'),\n",
       "           Span(11, 17, 'Other'),\n",
       "           Span(18, 30, 'Comfort'),\n",
       "           Span(31, 39, 'Driveability'),\n",
       "           Span(40, 43, 'Other'),\n",
       "           Span(44, 48, 'Driveability')])"
      ]
     },
     "metadata": {},
     "output_type": "display_data"
    },
    {
     "name": "stdout",
     "output_type": "stream",
     "text": [
      "\n",
      "истинные тэги:\n"
     ]
    },
    {
     "data": {
      "text/html": [
       "<div class=\"tex2jax_ignore\" style=\"white-space: pre-wrap\"><span style=\"padding: 2px; border-radius: 4px; border: 1px solid #d7ccc8; background: #efebe9\">о<span style=\"vertical-align: middle; margin-left: 2px; font-size: 0.7em; color: #a1887f;\">Other</span></span> <span style=\"padding: 2px; border-radius: 4px; border: 1px solid #ffe0b2; background: #fff3e0\">салоне автомобиля<span style=\"vertical-align: middle; margin-left: 2px; font-size: 0.7em; color: #ffb74d;\">Comfort</span></span> <span style=\"padding: 2px; border-radius: 4px; border: 1px solid #d7ccc8; background: #efebe9\">хорошего тоже сказать не чего , одно только то что<span style=\"vertical-align: middle; margin-left: 2px; font-size: 0.7em; color: #a1887f;\">Other</span></span> <span style=\"padding: 2px; border-radius: 4px; border: 1px solid #ffe0b2; background: #fff3e0\">руль<span style=\"vertical-align: middle; margin-left: 2px; font-size: 0.7em; color: #ffb74d;\">Comfort</span></span> <span style=\"padding: 2px; border-radius: 4px; border: 1px solid #d7ccc8; background: #efebe9\">ни как<span style=\"vertical-align: middle; margin-left: 2px; font-size: 0.7em; color: #a1887f;\">Other</span></span> <span style=\"padding: 2px; border-radius: 4px; border: 1px solid #ffe0b2; background: #fff3e0\">не регулируется<span style=\"vertical-align: middle; margin-left: 2px; font-size: 0.7em; color: #ffb74d;\">Comfort</span></span> <span style=\"padding: 2px; border-radius: 4px; border: 1px solid #d7ccc8; background: #efebe9\">о многом говорит .<span style=\"vertical-align: middle; margin-left: 2px; font-size: 0.7em; color: #a1887f;\">Other</span></span></div>"
      ],
      "text/plain": [
       "BoxMarkup('о салоне автомобиля хорошего тоже сказать не чего , одно только то что руль ни как не регулируется о многом говорит .',\n",
       "          [Span(0, 1, 'Other'),\n",
       "           Span(2, 19, 'Comfort'),\n",
       "           Span(20, 70, 'Other'),\n",
       "           Span(71, 75, 'Comfort'),\n",
       "           Span(76, 82, 'Other'),\n",
       "           Span(83, 98, 'Comfort'),\n",
       "           Span(99, 117, 'Other')])"
      ]
     },
     "metadata": {},
     "output_type": "display_data"
    },
    {
     "name": "stdout",
     "output_type": "stream",
     "text": [
      "предсказанные тэги:\n"
     ]
    },
    {
     "data": {
      "text/html": [
       "<div class=\"tex2jax_ignore\" style=\"white-space: pre-wrap\"><span style=\"padding: 2px; border-radius: 4px; border: 1px solid #d7ccc8; background: #efebe9\">о<span style=\"vertical-align: middle; margin-left: 2px; font-size: 0.7em; color: #a1887f;\">Other</span></span> <span style=\"padding: 2px; border-radius: 4px; border: 1px solid #ffcdd2; background: #ffebee\">салоне автомобиля<span style=\"vertical-align: middle; margin-left: 2px; font-size: 0.7em; color: #e57373;\">Whole</span></span> <span style=\"padding: 2px; border-radius: 4px; border: 1px solid #d7ccc8; background: #efebe9\">хорошего тоже сказать не чего , одно только то что<span style=\"vertical-align: middle; margin-left: 2px; font-size: 0.7em; color: #a1887f;\">Other</span></span> <span style=\"padding: 2px; border-radius: 4px; border: 1px solid #bbdefb; background: #e3f2fd\">руль<span style=\"vertical-align: middle; margin-left: 2px; font-size: 0.7em; color: #64b5f6;\">Driveability</span></span> <span style=\"padding: 2px; border-radius: 4px; border: 1px solid #d7ccc8; background: #efebe9\">ни как не регулируется о многом говорит .<span style=\"vertical-align: middle; margin-left: 2px; font-size: 0.7em; color: #a1887f;\">Other</span></span></div>"
      ],
      "text/plain": [
       "BoxMarkup('о салоне автомобиля хорошего тоже сказать не чего , одно только то что руль ни как не регулируется о многом говорит .',\n",
       "          [Span(0, 1, 'Other'),\n",
       "           Span(2, 19, 'Whole'),\n",
       "           Span(20, 70, 'Other'),\n",
       "           Span(71, 75, 'Driveability'),\n",
       "           Span(76, 117, 'Other')])"
      ]
     },
     "metadata": {},
     "output_type": "display_data"
    },
    {
     "name": "stdout",
     "output_type": "stream",
     "text": [
      "\n",
      "истинные тэги:\n"
     ]
    },
    {
     "data": {
      "text/html": [
       "<div class=\"tex2jax_ignore\" style=\"white-space: pre-wrap\"><span style=\"padding: 2px; border-radius: 4px; border: 1px solid #d7ccc8; background: #efebe9\">общее впечатление :<span style=\"vertical-align: middle; margin-left: 2px; font-size: 0.7em; color: #a1887f;\">Other</span></span> <span style=\"padding: 2px; border-radius: 4px; border: 1px solid #ffcdd2; background: #ffebee\">рабочая лошадка<span style=\"vertical-align: middle; margin-left: 2px; font-size: 0.7em; color: #e57373;\">Whole</span></span></div>"
      ],
      "text/plain": [
       "BoxMarkup('общее впечатление : рабочая лошадка',\n",
       "          [Span(0, 19, 'Other'), Span(20, 35, 'Whole')])"
      ]
     },
     "metadata": {},
     "output_type": "display_data"
    },
    {
     "name": "stdout",
     "output_type": "stream",
     "text": [
      "предсказанные тэги:\n"
     ]
    },
    {
     "data": {
      "text/html": [
       "<div class=\"tex2jax_ignore\" style=\"white-space: pre-wrap\"><span style=\"padding: 2px; border-radius: 4px; border: 1px solid #d7ccc8; background: #efebe9\">общее впечатление :<span style=\"vertical-align: middle; margin-left: 2px; font-size: 0.7em; color: #a1887f;\">Other</span></span> <span style=\"padding: 2px; border-radius: 4px; border: 1px solid #ffcdd2; background: #ffebee\">рабочая лошадка<span style=\"vertical-align: middle; margin-left: 2px; font-size: 0.7em; color: #e57373;\">Whole</span></span></div>"
      ],
      "text/plain": [
       "BoxMarkup('общее впечатление : рабочая лошадка',\n",
       "          [Span(0, 19, 'Other'), Span(20, 35, 'Whole')])"
      ]
     },
     "metadata": {},
     "output_type": "display_data"
    },
    {
     "name": "stdout",
     "output_type": "stream",
     "text": [
      "\n",
      "истинные тэги:\n"
     ]
    },
    {
     "data": {
      "text/html": [
       "<div class=\"tex2jax_ignore\" style=\"white-space: pre-wrap\"><span style=\"padding: 2px; border-radius: 4px; border: 1px solid #d7ccc8; background: #efebe9\">сзади<span style=\"vertical-align: middle; margin-left: 2px; font-size: 0.7em; color: #a1887f;\">Other</span></span> <span style=\"padding: 2px; border-radius: 4px; border: 1px solid #ffe0b2; background: #fff3e0\">достаточно места<span style=\"vertical-align: middle; margin-left: 2px; font-size: 0.7em; color: #ffb74d;\">Comfort</span></span></div>"
      ],
      "text/plain": [
       "BoxMarkup('сзади достаточно места',\n",
       "          [Span(0, 5, 'Other'), Span(6, 22, 'Comfort')])"
      ]
     },
     "metadata": {},
     "output_type": "display_data"
    },
    {
     "name": "stdout",
     "output_type": "stream",
     "text": [
      "предсказанные тэги:\n"
     ]
    },
    {
     "data": {
      "text/html": [
       "<div class=\"tex2jax_ignore\" style=\"white-space: pre-wrap\"><span style=\"padding: 2px; border-radius: 4px; border: 1px solid #d7ccc8; background: #efebe9\">сзади достаточно<span style=\"vertical-align: middle; margin-left: 2px; font-size: 0.7em; color: #a1887f;\">Other</span></span> <span style=\"padding: 2px; border-radius: 4px; border: 1px solid #ffe0b2; background: #fff3e0\">места<span style=\"vertical-align: middle; margin-left: 2px; font-size: 0.7em; color: #ffb74d;\">Comfort</span></span></div>"
      ],
      "text/plain": [
       "BoxMarkup('сзади достаточно места',\n",
       "          [Span(0, 16, 'Other'), Span(17, 22, 'Comfort')])"
      ]
     },
     "metadata": {},
     "output_type": "display_data"
    },
    {
     "name": "stdout",
     "output_type": "stream",
     "text": [
      "\n",
      "истинные тэги:\n"
     ]
    },
    {
     "data": {
      "text/html": [
       "<div class=\"tex2jax_ignore\" style=\"white-space: pre-wrap\"><span style=\"padding: 2px; border-radius: 4px; border: 1px solid #d7ccc8; background: #efebe9\">куб ).<span style=\"vertical-align: middle; margin-left: 2px; font-size: 0.7em; color: #a1887f;\">Other</span></span></div>"
      ],
      "text/plain": [
       "BoxMarkup('куб ).', [Span(0, 6, 'Other')])"
      ]
     },
     "metadata": {},
     "output_type": "display_data"
    },
    {
     "name": "stdout",
     "output_type": "stream",
     "text": [
      "предсказанные тэги:\n"
     ]
    },
    {
     "data": {
      "text/html": [
       "<div class=\"tex2jax_ignore\" style=\"white-space: pre-wrap\"><span style=\"padding: 2px; border-radius: 4px; border: 1px solid #bbdefb; background: #e3f2fd\">куб<span style=\"vertical-align: middle; margin-left: 2px; font-size: 0.7em; color: #64b5f6;\">Appearance</span></span> <span style=\"padding: 2px; border-radius: 4px; border: 1px solid #d7ccc8; background: #efebe9\">).<span style=\"vertical-align: middle; margin-left: 2px; font-size: 0.7em; color: #a1887f;\">Other</span></span></div>"
      ],
      "text/plain": [
       "BoxMarkup('куб ).', [Span(0, 3, 'Appearance'), Span(4, 6, 'Other')])"
      ]
     },
     "metadata": {},
     "output_type": "display_data"
    },
    {
     "name": "stdout",
     "output_type": "stream",
     "text": [
      "\n",
      "истинные тэги:\n"
     ]
    },
    {
     "data": {
      "text/html": [
       "<div class=\"tex2jax_ignore\" style=\"white-space: pre-wrap\"><span style=\"padding: 2px; border-radius: 4px; border: 1px solid #d7ccc8; background: #efebe9\">очень<span style=\"vertical-align: middle; margin-left: 2px; font-size: 0.7em; color: #a1887f;\">Other</span></span> <span style=\"padding: 2px; border-radius: 4px; border: 1px solid #ffe0b2; background: #fff3e0\">шумно в кабине<span style=\"vertical-align: middle; margin-left: 2px; font-size: 0.7em; color: #ffb74d;\">Comfort</span></span></div>"
      ],
      "text/plain": [
       "BoxMarkup('очень шумно в кабине',\n",
       "          [Span(0, 5, 'Other'), Span(6, 20, 'Comfort')])"
      ]
     },
     "metadata": {},
     "output_type": "display_data"
    },
    {
     "name": "stdout",
     "output_type": "stream",
     "text": [
      "предсказанные тэги:\n"
     ]
    },
    {
     "data": {
      "text/html": [
       "<div class=\"tex2jax_ignore\" style=\"white-space: pre-wrap\"><span style=\"padding: 2px; border-radius: 4px; border: 1px solid #d7ccc8; background: #efebe9\">очень<span style=\"vertical-align: middle; margin-left: 2px; font-size: 0.7em; color: #a1887f;\">Other</span></span> <span style=\"padding: 2px; border-radius: 4px; border: 1px solid #ffe0b2; background: #fff3e0\">шумно<span style=\"vertical-align: middle; margin-left: 2px; font-size: 0.7em; color: #ffb74d;\">Comfort</span></span> <span style=\"padding: 2px; border-radius: 4px; border: 1px solid #d7ccc8; background: #efebe9\">в<span style=\"vertical-align: middle; margin-left: 2px; font-size: 0.7em; color: #a1887f;\">Other</span></span> <span style=\"padding: 2px; border-radius: 4px; border: 1px solid #ffe0b2; background: #fff3e0\">кабине<span style=\"vertical-align: middle; margin-left: 2px; font-size: 0.7em; color: #ffb74d;\">Comfort</span></span></div>"
      ],
      "text/plain": [
       "BoxMarkup('очень шумно в кабине',\n",
       "          [Span(0, 5, 'Other'),\n",
       "           Span(6, 11, 'Comfort'),\n",
       "           Span(12, 13, 'Other'),\n",
       "           Span(14, 20, 'Comfort')])"
      ]
     },
     "metadata": {},
     "output_type": "display_data"
    },
    {
     "name": "stdout",
     "output_type": "stream",
     "text": [
      "\n"
     ]
    }
   ],
   "source": [
    "for i in range(0,10):\n",
    "\n",
    "    recipe, tags = test_data[np.random.randint(0,1000)]\n",
    "    \n",
    "    tags_pred    = predict_tags(model, recipe)\n",
    "\n",
    "    print('истинные тэги:')\n",
    "    text, spans = generate_markup(recipe, tags) \n",
    "    show_markup(text, spans)\n",
    "\n",
    "    print('предсказанные тэги:')\n",
    "    text, spans = generate_markup(recipe, tags_pred) \n",
    "\n",
    "    show_markup(text, spans)\n",
    "    print()"
   ]
  },
  {
   "cell_type": "code",
   "execution_count": 52,
   "metadata": {},
   "outputs": [],
   "source": [
    "from dlnlputils.sentiment_utils import plot_confusion_matrix"
   ]
  },
  {
   "cell_type": "code",
   "execution_count": 53,
   "metadata": {},
   "outputs": [],
   "source": [
    "y_pred = []\n",
    "y_true = []\n",
    "\n",
    "for sentence, tags in test_data:\n",
    "    y_pred += predict_tags(model, sentence)\n",
    "    y_true += tags"
   ]
  },
  {
   "cell_type": "code",
   "execution_count": 55,
   "metadata": {},
   "outputs": [
    {
     "data": {
      "image/png": "[encoded data removed]",
      "text/plain": [
       "<Figure size 720x720 with 2 Axes>"
      ]
     },
     "metadata": {
      "needs_background": "light"
     },
     "output_type": "display_data"
    }
   ],
   "source": [
    "plot_confusion_matrix(y_true, y_pred, classes=ordered_tags, normalize=True, \n",
    "                      title='Нормализованная матрица ошибок')\n",
    "plt.show()"
   ]
  },
  {
   "cell_type": "code",
   "execution_count": null,
   "metadata": {},
   "outputs": [],
   "source": []
  }
 ],
 "metadata": {
  "kernelspec": {
   "display_name": "Python 3",
   "language": "python",
   "name": "python3"
  },
  "language_info": {
   "codemirror_mode": {
    "name": "ipython",
    "version": 3
   },
   "file_extension": ".py",
   "mimetype": "text/x-python",
   "name": "python",
   "nbconvert_exporter": "python",
   "pygments_lexer": "ipython3",
   "version": "3.6.8"
  }
 },
 "nbformat": 4,
 "nbformat_minor": 2
}
